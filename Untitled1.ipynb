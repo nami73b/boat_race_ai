{
 "cells": [
  {
   "cell_type": "code",
   "execution_count": 1,
   "metadata": {},
   "outputs": [
    {
     "name": "stderr",
     "output_type": "stream",
     "text": [
      "/Users/yuta.miyawaki/.pyenv/versions/3.6.10/lib/python3.6/site-packages/pandas/compat/__init__.py:85: UserWarning: Could not import the lzma module. Your installed Python is incomplete. Attempting to use lzma compression will result in a RuntimeError.\n",
      "  warnings.warn(msg)\n",
      "/Users/yuta.miyawaki/.pyenv/versions/3.6.10/lib/python3.6/site-packages/pandas/compat/__init__.py:85: UserWarning: Could not import the lzma module. Your installed Python is incomplete. Attempting to use lzma compression will result in a RuntimeError.\n",
      "  warnings.warn(msg)\n"
     ]
    }
   ],
   "source": [
    "import datetime\n",
    "import numpy as np\n",
    "import pandas as pd\n",
    "from bs4 import BeautifulSoup\n",
    "from urllib.request import urlopen\n",
    "import sys\n",
    "import traceback"
   ]
  },
  {
   "cell_type": "code",
   "execution_count": 2,
   "metadata": {},
   "outputs": [],
   "source": [
    "url = 'https://www.boatrace.jp/owpc/pc/race/index'"
   ]
  },
  {
   "cell_type": "code",
   "execution_count": 3,
   "metadata": {},
   "outputs": [],
   "source": [
    "html = urlopen(url)\n",
    "soup = BeautifulSoup(html,\"html.parser\")"
   ]
  },
  {
   "cell_type": "code",
   "execution_count": 4,
   "metadata": {},
   "outputs": [],
   "source": [
    "table = soup.find_all('div', {'class': 'table1'})[0].find_all('table')[0]"
   ]
  },
  {
   "cell_type": "code",
   "execution_count": 5,
   "metadata": {},
   "outputs": [],
   "source": [
    "rows = table.find_all('tbody')"
   ]
  },
  {
   "cell_type": "code",
   "execution_count": 6,
   "metadata": {},
   "outputs": [],
   "source": [
    "rows = list(filter(lambda x: str(x).find('発売中')!=-1, rows))"
   ]
  },
  {
   "cell_type": "code",
   "execution_count": 7,
   "metadata": {},
   "outputs": [],
   "source": [
    "race_list = []\n",
    "for row in rows:\n",
    "    race_inf = {}\n",
    "    race_inf['place_id'] = row.find_all('a')[0].get('href').split('(')[-1].split(',')[1].replace(\"'tv\", '').replace(\"'\", '')\n",
    "    race_inf['race_no'] = row.find_all('td')[2].get_text().replace('R', '')\n",
    "    race_inf['vote_deadline'] = row.find_all('tr')[1].find_all('td')[1].get_text()\n",
    "    race_list.append(race_inf)\n",
    "race_list.sort(key=lambda x: x['vote_deadline'])"
   ]
  },
  {
   "cell_type": "code",
   "execution_count": 9,
   "metadata": {},
   "outputs": [
    {
     "data": {
      "text/plain": [
       "[{'place_id': '7', 'race_no': '2', 'vote_deadline': '15:45'},\n",
       " {'place_id': '12', 'race_no': '2', 'vote_deadline': '15:48'},\n",
       " {'place_id': '16', 'race_no': '11', 'vote_deadline': '15:50'},\n",
       " {'place_id': '4', 'race_no': '11', 'vote_deadline': '15:52'},\n",
       " {'place_id': '15', 'race_no': '2', 'vote_deadline': '15:55'},\n",
       " {'place_id': '6', 'race_no': '10', 'vote_deadline': '15:59'},\n",
       " {'place_id': '11', 'race_no': '11', 'vote_deadline': '15:59'},\n",
       " {'place_id': '5', 'race_no': '11', 'vote_deadline': '16:04'},\n",
       " {'place_id': '24', 'race_no': '3', 'vote_deadline': '16:07'}]"
      ]
     },
     "execution_count": 9,
     "metadata": {},
     "output_type": "execute_result"
    }
   ],
   "source": [
    "race_list"
   ]
  },
  {
   "cell_type": "code",
   "execution_count": null,
   "metadata": {},
   "outputs": [],
   "source": []
  }
 ],
 "metadata": {
  "kernelspec": {
   "display_name": "Python 3",
   "language": "python",
   "name": "python3"
  },
  "language_info": {
   "codemirror_mode": {
    "name": "ipython",
    "version": 3
   },
   "file_extension": ".py",
   "mimetype": "text/x-python",
   "name": "python",
   "nbconvert_exporter": "python",
   "pygments_lexer": "ipython3",
   "version": "3.6.10"
  }
 },
 "nbformat": 4,
 "nbformat_minor": 2
}
