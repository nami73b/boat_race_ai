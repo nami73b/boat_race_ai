{
 "cells": [
  {
   "cell_type": "code",
   "execution_count": 16,
   "metadata": {},
   "outputs": [],
   "source": [
    "import pandas as pd\n",
    "import numpy as np"
   ]
  },
  {
   "cell_type": "code",
   "execution_count": 3,
   "metadata": {},
   "outputs": [],
   "source": [
    "df = pd.read_csv('csv/boat_learning_data.csv')"
   ]
  },
  {
   "cell_type": "code",
   "execution_count": 4,
   "metadata": {},
   "outputs": [
    {
     "data": {
      "text/html": [
       "<div>\n",
       "<style scoped>\n",
       "    .dataframe tbody tr th:only-of-type {\n",
       "        vertical-align: middle;\n",
       "    }\n",
       "\n",
       "    .dataframe tbody tr th {\n",
       "        vertical-align: top;\n",
       "    }\n",
       "\n",
       "    .dataframe thead th {\n",
       "        text-align: right;\n",
       "    }\n",
       "</style>\n",
       "<table border=\"1\" class=\"dataframe\">\n",
       "  <thead>\n",
       "    <tr style=\"text-align: right;\">\n",
       "      <th></th>\n",
       "      <th>race_date</th>\n",
       "      <th>place_id</th>\n",
       "      <th>race_no</th>\n",
       "      <th>bracket_no</th>\n",
       "      <th>is_miss</th>\n",
       "      <th>place_id.1</th>\n",
       "      <th>player_grade</th>\n",
       "      <th>branch</th>\n",
       "      <th>born_area</th>\n",
       "      <th>age</th>\n",
       "      <th>...</th>\n",
       "      <th>win_pattern</th>\n",
       "      <th>race_grade</th>\n",
       "      <th>distance</th>\n",
       "      <th>course_direction</th>\n",
       "      <th>weather</th>\n",
       "      <th>temperature</th>\n",
       "      <th>wind</th>\n",
       "      <th>wind_direction</th>\n",
       "      <th>water_temperature</th>\n",
       "      <th>wave_height</th>\n",
       "    </tr>\n",
       "  </thead>\n",
       "  <tbody>\n",
       "    <tr>\n",
       "      <th>0</th>\n",
       "      <td>20190412</td>\n",
       "      <td>4</td>\n",
       "      <td>1</td>\n",
       "      <td>1</td>\n",
       "      <td>False</td>\n",
       "      <td>4</td>\n",
       "      <td>B1</td>\n",
       "      <td>長崎</td>\n",
       "      <td>長崎</td>\n",
       "      <td>37.0</td>\n",
       "      <td>...</td>\n",
       "      <td>NaN</td>\n",
       "      <td>予選</td>\n",
       "      <td>1800</td>\n",
       "      <td>5</td>\n",
       "      <td>曇り</td>\n",
       "      <td>10.0</td>\n",
       "      <td>3.0</td>\n",
       "      <td>1.0</td>\n",
       "      <td>13.0</td>\n",
       "      <td>3.0</td>\n",
       "    </tr>\n",
       "    <tr>\n",
       "      <th>1</th>\n",
       "      <td>20190412</td>\n",
       "      <td>4</td>\n",
       "      <td>1</td>\n",
       "      <td>2</td>\n",
       "      <td>False</td>\n",
       "      <td>4</td>\n",
       "      <td>B2</td>\n",
       "      <td>東京</td>\n",
       "      <td>東京</td>\n",
       "      <td>27.0</td>\n",
       "      <td>...</td>\n",
       "      <td>NaN</td>\n",
       "      <td>予選</td>\n",
       "      <td>1800</td>\n",
       "      <td>5</td>\n",
       "      <td>曇り</td>\n",
       "      <td>10.0</td>\n",
       "      <td>3.0</td>\n",
       "      <td>1.0</td>\n",
       "      <td>13.0</td>\n",
       "      <td>3.0</td>\n",
       "    </tr>\n",
       "    <tr>\n",
       "      <th>2</th>\n",
       "      <td>20190412</td>\n",
       "      <td>4</td>\n",
       "      <td>1</td>\n",
       "      <td>3</td>\n",
       "      <td>False</td>\n",
       "      <td>4</td>\n",
       "      <td>B1</td>\n",
       "      <td>福岡</td>\n",
       "      <td>福岡</td>\n",
       "      <td>32.0</td>\n",
       "      <td>...</td>\n",
       "      <td>NaN</td>\n",
       "      <td>予選</td>\n",
       "      <td>1800</td>\n",
       "      <td>5</td>\n",
       "      <td>曇り</td>\n",
       "      <td>10.0</td>\n",
       "      <td>3.0</td>\n",
       "      <td>1.0</td>\n",
       "      <td>13.0</td>\n",
       "      <td>3.0</td>\n",
       "    </tr>\n",
       "    <tr>\n",
       "      <th>3</th>\n",
       "      <td>20190412</td>\n",
       "      <td>4</td>\n",
       "      <td>1</td>\n",
       "      <td>4</td>\n",
       "      <td>False</td>\n",
       "      <td>4</td>\n",
       "      <td>A2</td>\n",
       "      <td>福井</td>\n",
       "      <td>石川</td>\n",
       "      <td>28.0</td>\n",
       "      <td>...</td>\n",
       "      <td>NaN</td>\n",
       "      <td>予選</td>\n",
       "      <td>1800</td>\n",
       "      <td>5</td>\n",
       "      <td>曇り</td>\n",
       "      <td>10.0</td>\n",
       "      <td>3.0</td>\n",
       "      <td>1.0</td>\n",
       "      <td>13.0</td>\n",
       "      <td>3.0</td>\n",
       "    </tr>\n",
       "    <tr>\n",
       "      <th>4</th>\n",
       "      <td>20190412</td>\n",
       "      <td>4</td>\n",
       "      <td>1</td>\n",
       "      <td>5</td>\n",
       "      <td>False</td>\n",
       "      <td>4</td>\n",
       "      <td>B1</td>\n",
       "      <td>東京</td>\n",
       "      <td>東京</td>\n",
       "      <td>50.0</td>\n",
       "      <td>...</td>\n",
       "      <td>まくり差し</td>\n",
       "      <td>予選</td>\n",
       "      <td>1800</td>\n",
       "      <td>5</td>\n",
       "      <td>曇り</td>\n",
       "      <td>10.0</td>\n",
       "      <td>3.0</td>\n",
       "      <td>1.0</td>\n",
       "      <td>13.0</td>\n",
       "      <td>3.0</td>\n",
       "    </tr>\n",
       "  </tbody>\n",
       "</table>\n",
       "<p>5 rows × 45 columns</p>\n",
       "</div>"
      ],
      "text/plain": [
       "   race_date  place_id  race_no  bracket_no is_miss  place_id.1 player_grade  \\\n",
       "0   20190412         4        1           1   False           4           B1   \n",
       "1   20190412         4        1           2   False           4           B2   \n",
       "2   20190412         4        1           3   False           4           B1   \n",
       "3   20190412         4        1           4   False           4           A2   \n",
       "4   20190412         4        1           5   False           4           B1   \n",
       "\n",
       "  branch born_area   age     ...       win_pattern  race_grade  distance  \\\n",
       "0     長崎        長崎  37.0     ...               NaN          予選      1800   \n",
       "1     東京        東京  27.0     ...               NaN          予選      1800   \n",
       "2     福岡        福岡  32.0     ...               NaN          予選      1800   \n",
       "3     福井        石川  28.0     ...               NaN          予選      1800   \n",
       "4     東京        東京  50.0     ...             まくり差し          予選      1800   \n",
       "\n",
       "   course_direction  weather  temperature  wind  wind_direction  \\\n",
       "0                 5       曇り         10.0   3.0             1.0   \n",
       "1                 5       曇り         10.0   3.0             1.0   \n",
       "2                 5       曇り         10.0   3.0             1.0   \n",
       "3                 5       曇り         10.0   3.0             1.0   \n",
       "4                 5       曇り         10.0   3.0             1.0   \n",
       "\n",
       "   water_temperature  wave_height  \n",
       "0               13.0          3.0  \n",
       "1               13.0          3.0  \n",
       "2               13.0          3.0  \n",
       "3               13.0          3.0  \n",
       "4               13.0          3.0  \n",
       "\n",
       "[5 rows x 45 columns]"
      ]
     },
     "execution_count": 4,
     "metadata": {},
     "output_type": "execute_result"
    }
   ],
   "source": [
    "df.head()"
   ]
  },
  {
   "cell_type": "code",
   "execution_count": 5,
   "metadata": {
    "scrolled": true
   },
   "outputs": [
    {
     "name": "stdout",
     "output_type": "stream",
     "text": [
      "race_date int64 20190412\n",
      "place_id int64 4\n",
      "race_no int64 1\n",
      "bracket_no int64 6\n",
      "is_miss object False\n",
      "place_id.1 int64 4\n",
      "player_grade object B1\n",
      "branch object 愛知\n",
      "born_area object 愛知\n",
      "age float64 43.0\n",
      "weight float64 50.0\n",
      "f_count float64 0.0\n",
      "l_count float64 1.0\n",
      "start_time_avg float64 0.2\n",
      "first_rate_all float64 4.38\n",
      "second_rate_all float64 27.68\n",
      "third_rate_all float64 39.29\n",
      "first_rate_area float64 4.88\n",
      "second_rate_area float64 35.29\n",
      "third_rate_area float64 52.94\n",
      "motor_no float64 22.0\n",
      "motor_within_second_rate float64 31.89\n",
      "motor_within_third_rate float64 52.43\n",
      "boat_no float64 58.0\n",
      "boat_within_second_rate float64 41.14\n",
      "boat_within_third_rate float64 59.43\n",
      "pre_time float64 6.81\n",
      "tilt_angle float64 -0.5\n",
      "propeller object nan\n",
      "parts object nan\n",
      "adjust_weight float64 1.0\n",
      "pre_start_timing object F.04\n",
      "finish_order float64 5.0\n",
      "player_race_time object  \n",
      "start_timing float64 0.43\n",
      "win_pattern object nan\n",
      "race_grade object 予選\n",
      "distance int64 1800\n",
      "course_direction int64 5\n",
      "weather object 曇り\n",
      "temperature float64 10.0\n",
      "wind float64 3.0\n",
      "wind_direction float64 1.0\n",
      "water_temperature float64 13.0\n",
      "wave_height float64 3.0\n"
     ]
    }
   ],
   "source": [
    "for c in df.columns:\n",
    "    print(c, df[c].dtype, df.iloc[5][c])"
   ]
  },
  {
   "cell_type": "code",
   "execution_count": 6,
   "metadata": {},
   "outputs": [
    {
     "data": {
      "text/plain": [
       "dtype('O')"
      ]
     },
     "execution_count": 6,
     "metadata": {},
     "output_type": "execute_result"
    }
   ],
   "source": [
    "df['pre_start_timing'].dtype"
   ]
  },
  {
   "cell_type": "code",
   "execution_count": 27,
   "metadata": {},
   "outputs": [
    {
     "name": "stderr",
     "output_type": "stream",
     "text": [
      "/Users/yuta_miyawaki/.pyenv/versions/anaconda3-5.3.1/lib/python3.7/site-packages/ipykernel_launcher.py:1: DeprecationWarning: \n",
      ".ix is deprecated. Please use\n",
      ".loc for label based indexing or\n",
      ".iloc for positional indexing\n",
      "\n",
      "See the documentation here:\n",
      "http://pandas.pydata.org/pandas-docs/stable/indexing.html#ix-indexer-is-deprecated\n",
      "  \"\"\"Entry point for launching an IPython kernel.\n"
     ]
    },
    {
     "data": {
      "text/plain": [
       "True"
      ]
     },
     "execution_count": 27,
     "metadata": {},
     "output_type": "execute_result"
    }
   ],
   "source": [
    "np.isnan(df['parts'].ix[0])"
   ]
  },
  {
   "cell_type": "code",
   "execution_count": 42,
   "metadata": {},
   "outputs": [
    {
     "data": {
      "text/plain": [
       "array([nan, 'キャリボ\\xa0', 'ピストン×２リング×１', '電気\\xa0キャブ\\xa0', 'キャブ\\xa0',\n",
       "       'リング×２', 'ギヤ\\xa0', 'ピストン×２リング×４シリンダ\\xa0', '電気\\xa0', 'リング×１',\n",
       "       'ピストン×２', 'キャブ\\xa0キャリボ\\xa0', 'ピストン×１', 'リング×１キャブ\\xa0',\n",
       "       'シャフト\\xa0キャリボ\\xa0', 'ピストン×２リング×４シリンダ\\xa0キャリボ\\xa0',\n",
       "       'ピストン×２リング×４シリンダ\\xa0ギヤ\\xa0', 'リング×３', 'ピストン×１電気\\xa0',\n",
       "       'ギヤ\\xa0キャリボ\\xa0', 'リング×２キャリボ\\xa0', '電気\\xa0ギヤ\\xa0', 'シャフト\\xa0',\n",
       "       'ピストン×２シャフト\\xa0', 'ピストン×１リング×４',\n",
       "       'ピストン×２リング×４電気\\xa0キャブ\\xa0シリンダ\\xa0', 'ピストン×２リング×２', 'シリンダ\\xa0',\n",
       "       'ピストン×２ギヤ\\xa0キャリボ\\xa0', 'ピストン×２リング×４キャブ\\xa0シリンダ\\xa0',\n",
       "       'ピストン×２リング×４キャブ\\xa0シリンダ\\xa0キャリボ\\xa0', 'ピストン×２リング×４', 'リング×４',\n",
       "       'ピストン×２電気\\xa0ギヤ\\xa0', 'リング×１電気\\xa0シャフト\\xa0', 'ピストン×１リング×２',\n",
       "       'キャブ\\xa0シャフト\\xa0', 'ピストン×２シリンダ\\xa0', '電気\\xa0シャフト\\xa0',\n",
       "       'リング×２キャブ\\xa0', 'ピストン×２リング×２シリンダ\\xa0キャリボ\\xa0', '電気\\xa0キャリボ\\xa0',\n",
       "       'ピストン×２電気\\xa0ギヤ\\xa0キャリボ\\xa0', 'ピストン×２リング×３', 'ピストン×２リング×４ギヤ\\xa0',\n",
       "       'ピストン×２電気\\xa0', 'シャフト\\xa0ギヤ\\xa0', 'ピストン×２リング×３シャフト\\xa0キャリボ\\xa0',\n",
       "       'ピストン×１リング×４シャフト\\xa0',\n",
       "       'ピストン×２リング×４電気\\xa0キャブ\\xa0シリンダ\\xa0ギヤ\\xa0キャリボ\\xa0', 'リング×２電気\\xa0',\n",
       "       'リング×２シリンダ\\xa0', 'ピストン×２キャブ\\xa0', 'ピストン×２リング×１シャフト\\xa0',\n",
       "       'ピストン×２ギヤ\\xa0', 'ピストン×２リング×２シリンダ\\xa0',\n",
       "       'ピストン×２リング×４シリンダ\\xa0シャフト\\xa0', 'ピストン×１電気\\xa0キャブ\\xa0ギヤ\\xa0キャリボ\\xa0',\n",
       "       'リング×１シリンダ\\xa0', 'キャブ\\xa0ギヤ\\xa0', 'リング×３キャリボ\\xa0', 'ピストン×１リング×１',\n",
       "       'リング×４シャフト\\xa0', 'ピストン×１リング×２キャブ\\xa0', 'リング×２シャフト\\xa0',\n",
       "       'ピストン×２キャブ\\xa0シャフト\\xa0ギヤ\\xa0', 'ピストン×１電気\\xa0ギヤ\\xa0',\n",
       "       'ピストン×２リング×３シリンダ\\xa0', 'ピストン×１シリンダ\\xa0シャフト\\xa0',\n",
       "       'ピストン×２リング×４シャフト\\xa0', 'リング×１キャリボ\\xa0',\n",
       "       'ピストン×１リング×１シリンダ\\xa0キャリボ\\xa0', 'ピストン×１シャフト\\xa0',\n",
       "       'ピストン×１ギヤ\\xa0キャリボ\\xa0', 'リング×３電気\\xa0', 'ピストン×１キャリボ\\xa0',\n",
       "       'リング×２ギヤ\\xa0', 'ピストン×１ギヤ\\xa0', 'ピストン×２リング×４電気\\xa0シリンダ\\xa0',\n",
       "       'リング×１電気\\xa0', 'リング×４キャブ\\xa0', 'ピストン×１シャフト\\xa0ギヤ\\xa0キャリボ\\xa0',\n",
       "       'キャブ\\xa0シャフト\\xa0ギヤ\\xa0', '電気\\xa0ギヤ\\xa0キャリボ\\xa0',\n",
       "       'キャブ\\xa0ギヤ\\xa0キャリボ\\xa0', '電気\\xa0キャブ\\xa0キャリボ\\xa0', 'リング×１ギヤ\\xa0',\n",
       "       'シリンダ\\xa0キャリボ\\xa0', '電気\\xa0キャブ\\xa0ギヤ\\xa0', 'ピストン×１シャフト\\xa0ギヤ\\xa0',\n",
       "       'リング×２シャフト\\xa0ギヤ\\xa0',\n",
       "       'ピストン×２リング×４電気\\xa0キャブ\\xa0シリンダ\\xa0シャフト\\xa0ギヤ\\xa0キャリボ\\xa0',\n",
       "       'ピストン×２キャリボ\\xa0', 'ピストン×２リング×４電気\\xa0キャブ\\xa0シリンダ\\xa0キャリボ\\xa0',\n",
       "       'リング×３キャブ\\xa0', 'ピストン×１電気\\xa0キャブ\\xa0',\n",
       "       'ピストン×２リング×４電気\\xa0シリンダ\\xa0シャフト\\xa0キャリボ\\xa0', 'ピストン×１リング×２キャリボ\\xa0',\n",
       "       'ピストン×２シャフト\\xa0ギヤ\\xa0', 'キャブ\\xa0シリンダ\\xa0', 'ピストン×１リング×３',\n",
       "       'リング×３キャブ\\xa0キャリボ\\xa0', 'リング×２キャブ\\xa0ギヤ\\xa0キャリボ\\xa0',\n",
       "       'リング×２電気\\xa0キャブ\\xa0', 'ピストン×２リング×１ギヤ\\xa0',\n",
       "       'ピストン×２シリンダ\\xa0シャフト\\xa0', 'リング×１シャフト\\xa0',\n",
       "       'ピストン×２シリンダ\\xa0キャリボ\\xa0', 'リング×４シリンダ\\xa0', 'リング×４電気\\xa0',\n",
       "       'リング×２電気\\xa0キャブ\\xa0キャリボ\\xa0', 'ピストン×２リング×４シリンダ\\xa0ギヤ\\xa0キャリボ\\xa0',\n",
       "       'リング×４ギヤ\\xa0', 'ピストン×２リング×２キャブ\\xa0シリンダ\\xa0',\n",
       "       'ピストン×２リング×４電気\\xa0シリンダ\\xa0キャリボ\\xa0', 'ピストン×２リング×３シャフト\\xa0',\n",
       "       'リング×１電気\\xa0キャブ\\xa0', 'ピストン×２電気\\xa0シャフト\\xa0', 'ピストン×２リング×１キャブ\\xa0',\n",
       "       'ピストン×１リング×３ギヤ\\xa0', 'ピストン×１リング×２電気\\xa0', 'リング×２ギヤ\\xa0キャリボ\\xa0',\n",
       "       'ピストン×１リング×１電気\\xa0キャリボ\\xa0', 'ピストン×１リング×４キャリボ\\xa0',\n",
       "       'リング×１キャブ\\xa0キャリボ\\xa0', 'ピストン×１リング×１シャフト\\xa0',\n",
       "       'リング×２シリンダ\\xa0キャリボ\\xa0', 'ピストン×１シャフト\\xa0キャリボ\\xa0',\n",
       "       'ピストン×２リング×１電気\\xa0シリンダ\\xa0', 'シャフト\\xa0ギヤ\\xa0キャリボ\\xa0',\n",
       "       'リング×１シリンダ\\xa0キャリボ\\xa0', 'ピストン×２リング×１電気\\xa0シリンダ\\xa0ギヤ\\xa0キャリボ\\xa0',\n",
       "       'ピストン×１リング×１シリンダ\\xa0', '電気\\xa0キャブ\\xa0シャフト\\xa0',\n",
       "       'ピストン×２リング×４キャブ\\xa0シリンダ\\xa0シャフト\\xa0', 'ピストン×１リング×２シャフト\\xa0',\n",
       "       'リング×２シリンダ\\xa0ギヤ\\xa0', 'ピストン×２リング×２シャフト\\xa0',\n",
       "       'ピストン×２リング×３電気\\xa0シリンダ\\xa0', 'リング×２キャブ\\xa0キャリボ\\xa0',\n",
       "       'ピストン×２リング×２電気\\xa0', 'リング×４キャリボ\\xa0', 'リング×２電気\\xa0ギヤ\\xa0'],\n",
       "      dtype=object)"
      ]
     },
     "execution_count": 42,
     "metadata": {},
     "output_type": "execute_result"
    }
   ],
   "source": [
    "df['parts'].unique()"
   ]
  },
  {
   "cell_type": "code",
   "execution_count": 51,
   "metadata": {},
   "outputs": [
    {
     "ename": "ValueError",
     "evalue": "invalid literal for int() with base 10: '×'",
     "output_type": "error",
     "traceback": [
      "\u001b[0;31m---------------------------------------------------------------------------\u001b[0m",
      "\u001b[0;31mValueError\u001b[0m                                Traceback (most recent call last)",
      "\u001b[0;32m<ipython-input-51-c0e073c8a363>\u001b[0m in \u001b[0;36m<module>\u001b[0;34m()\u001b[0m\n\u001b[0;32m----> 1\u001b[0;31m \u001b[0mdf\u001b[0m\u001b[0;34m[\u001b[0m\u001b[0mdf\u001b[0m\u001b[0;34m[\u001b[0m\u001b[0;34m'parts'\u001b[0m\u001b[0;34m]\u001b[0m \u001b[0;34m==\u001b[0m \u001b[0;34m'ピストン×２リング×２電気\\xa0'\u001b[0m\u001b[0;34m]\u001b[0m\u001b[0;34m[\u001b[0m\u001b[0;34m'parts'\u001b[0m\u001b[0;34m]\u001b[0m\u001b[0;34m.\u001b[0m\u001b[0mapply\u001b[0m\u001b[0;34m(\u001b[0m\u001b[0;32mlambda\u001b[0m \u001b[0mx\u001b[0m\u001b[0;34m:\u001b[0m \u001b[0mint\u001b[0m\u001b[0;34m(\u001b[0m\u001b[0mstr\u001b[0m\u001b[0;34m(\u001b[0m\u001b[0mx\u001b[0m\u001b[0;34m)\u001b[0m\u001b[0;34m[\u001b[0m\u001b[0mstr\u001b[0m\u001b[0;34m(\u001b[0m\u001b[0mx\u001b[0m\u001b[0;34m)\u001b[0m\u001b[0;34m.\u001b[0m\u001b[0mfind\u001b[0m\u001b[0;34m(\u001b[0m\u001b[0;34m'リング'\u001b[0m\u001b[0;34m)\u001b[0m\u001b[0;34m+\u001b[0m\u001b[0;36m3\u001b[0m\u001b[0;34m]\u001b[0m\u001b[0;34m)\u001b[0m \u001b[0;32mif\u001b[0m \u001b[0mstr\u001b[0m\u001b[0;34m(\u001b[0m\u001b[0mx\u001b[0m\u001b[0;34m)\u001b[0m\u001b[0;34m[\u001b[0m\u001b[0mstr\u001b[0m\u001b[0;34m(\u001b[0m\u001b[0mx\u001b[0m\u001b[0;34m)\u001b[0m\u001b[0;34m.\u001b[0m\u001b[0mfind\u001b[0m\u001b[0;34m(\u001b[0m\u001b[0;34m'リング'\u001b[0m\u001b[0;34m)\u001b[0m\u001b[0;34m:\u001b[0m\u001b[0mstr\u001b[0m\u001b[0;34m(\u001b[0m\u001b[0mx\u001b[0m\u001b[0;34m)\u001b[0m\u001b[0;34m.\u001b[0m\u001b[0mfind\u001b[0m\u001b[0;34m(\u001b[0m\u001b[0;34m'リング'\u001b[0m\u001b[0;34m)\u001b[0m\u001b[0;34m+\u001b[0m\u001b[0;36m3\u001b[0m\u001b[0;34m]\u001b[0m\u001b[0;34m.\u001b[0m\u001b[0mfind\u001b[0m\u001b[0;34m(\u001b[0m\u001b[0;34m'×'\u001b[0m\u001b[0;34m)\u001b[0m \u001b[0;32melse\u001b[0m \u001b[0;36m0\u001b[0m\u001b[0;34m)\u001b[0m\u001b[0;34m\u001b[0m\u001b[0m\n\u001b[0m",
      "\u001b[0;32m~/.pyenv/versions/anaconda3-5.3.1/lib/python3.7/site-packages/pandas/core/series.py\u001b[0m in \u001b[0;36mapply\u001b[0;34m(self, func, convert_dtype, args, **kwds)\u001b[0m\n\u001b[1;32m   3192\u001b[0m             \u001b[0;32melse\u001b[0m\u001b[0;34m:\u001b[0m\u001b[0;34m\u001b[0m\u001b[0m\n\u001b[1;32m   3193\u001b[0m                 \u001b[0mvalues\u001b[0m \u001b[0;34m=\u001b[0m \u001b[0mself\u001b[0m\u001b[0;34m.\u001b[0m\u001b[0mastype\u001b[0m\u001b[0;34m(\u001b[0m\u001b[0mobject\u001b[0m\u001b[0;34m)\u001b[0m\u001b[0;34m.\u001b[0m\u001b[0mvalues\u001b[0m\u001b[0;34m\u001b[0m\u001b[0m\n\u001b[0;32m-> 3194\u001b[0;31m                 \u001b[0mmapped\u001b[0m \u001b[0;34m=\u001b[0m \u001b[0mlib\u001b[0m\u001b[0;34m.\u001b[0m\u001b[0mmap_infer\u001b[0m\u001b[0;34m(\u001b[0m\u001b[0mvalues\u001b[0m\u001b[0;34m,\u001b[0m \u001b[0mf\u001b[0m\u001b[0;34m,\u001b[0m \u001b[0mconvert\u001b[0m\u001b[0;34m=\u001b[0m\u001b[0mconvert_dtype\u001b[0m\u001b[0;34m)\u001b[0m\u001b[0;34m\u001b[0m\u001b[0m\n\u001b[0m\u001b[1;32m   3195\u001b[0m \u001b[0;34m\u001b[0m\u001b[0m\n\u001b[1;32m   3196\u001b[0m         \u001b[0;32mif\u001b[0m \u001b[0mlen\u001b[0m\u001b[0;34m(\u001b[0m\u001b[0mmapped\u001b[0m\u001b[0;34m)\u001b[0m \u001b[0;32mand\u001b[0m \u001b[0misinstance\u001b[0m\u001b[0;34m(\u001b[0m\u001b[0mmapped\u001b[0m\u001b[0;34m[\u001b[0m\u001b[0;36m0\u001b[0m\u001b[0;34m]\u001b[0m\u001b[0;34m,\u001b[0m \u001b[0mSeries\u001b[0m\u001b[0;34m)\u001b[0m\u001b[0;34m:\u001b[0m\u001b[0;34m\u001b[0m\u001b[0m\n",
      "\u001b[0;32mpandas/_libs/src/inference.pyx\u001b[0m in \u001b[0;36mpandas._libs.lib.map_infer\u001b[0;34m()\u001b[0m\n",
      "\u001b[0;32m<ipython-input-51-c0e073c8a363>\u001b[0m in \u001b[0;36m<lambda>\u001b[0;34m(x)\u001b[0m\n\u001b[0;32m----> 1\u001b[0;31m \u001b[0mdf\u001b[0m\u001b[0;34m[\u001b[0m\u001b[0mdf\u001b[0m\u001b[0;34m[\u001b[0m\u001b[0;34m'parts'\u001b[0m\u001b[0;34m]\u001b[0m \u001b[0;34m==\u001b[0m \u001b[0;34m'ピストン×２リング×２電気\\xa0'\u001b[0m\u001b[0;34m]\u001b[0m\u001b[0;34m[\u001b[0m\u001b[0;34m'parts'\u001b[0m\u001b[0;34m]\u001b[0m\u001b[0;34m.\u001b[0m\u001b[0mapply\u001b[0m\u001b[0;34m(\u001b[0m\u001b[0;32mlambda\u001b[0m \u001b[0mx\u001b[0m\u001b[0;34m:\u001b[0m \u001b[0mint\u001b[0m\u001b[0;34m(\u001b[0m\u001b[0mstr\u001b[0m\u001b[0;34m(\u001b[0m\u001b[0mx\u001b[0m\u001b[0;34m)\u001b[0m\u001b[0;34m[\u001b[0m\u001b[0mstr\u001b[0m\u001b[0;34m(\u001b[0m\u001b[0mx\u001b[0m\u001b[0;34m)\u001b[0m\u001b[0;34m.\u001b[0m\u001b[0mfind\u001b[0m\u001b[0;34m(\u001b[0m\u001b[0;34m'リング'\u001b[0m\u001b[0;34m)\u001b[0m\u001b[0;34m+\u001b[0m\u001b[0;36m3\u001b[0m\u001b[0;34m]\u001b[0m\u001b[0;34m)\u001b[0m \u001b[0;32mif\u001b[0m \u001b[0mstr\u001b[0m\u001b[0;34m(\u001b[0m\u001b[0mx\u001b[0m\u001b[0;34m)\u001b[0m\u001b[0;34m[\u001b[0m\u001b[0mstr\u001b[0m\u001b[0;34m(\u001b[0m\u001b[0mx\u001b[0m\u001b[0;34m)\u001b[0m\u001b[0;34m.\u001b[0m\u001b[0mfind\u001b[0m\u001b[0;34m(\u001b[0m\u001b[0;34m'リング'\u001b[0m\u001b[0;34m)\u001b[0m\u001b[0;34m:\u001b[0m\u001b[0mstr\u001b[0m\u001b[0;34m(\u001b[0m\u001b[0mx\u001b[0m\u001b[0;34m)\u001b[0m\u001b[0;34m.\u001b[0m\u001b[0mfind\u001b[0m\u001b[0;34m(\u001b[0m\u001b[0;34m'リング'\u001b[0m\u001b[0;34m)\u001b[0m\u001b[0;34m+\u001b[0m\u001b[0;36m3\u001b[0m\u001b[0;34m]\u001b[0m\u001b[0;34m.\u001b[0m\u001b[0mfind\u001b[0m\u001b[0;34m(\u001b[0m\u001b[0;34m'×'\u001b[0m\u001b[0;34m)\u001b[0m \u001b[0;32melse\u001b[0m \u001b[0;36m0\u001b[0m\u001b[0;34m)\u001b[0m\u001b[0;34m\u001b[0m\u001b[0m\n\u001b[0m",
      "\u001b[0;31mValueError\u001b[0m: invalid literal for int() with base 10: '×'"
     ]
    }
   ],
   "source": []
  },
  {
   "cell_type": "code",
   "execution_count": 14,
   "metadata": {},
   "outputs": [
    {
     "data": {
      "text/plain": [
       "array([ 1.,  3., 15., 13.,  9., 11., 12.,  4.,  6.,  5.,  7., 17., 14.,\n",
       "       10.,  2.,  8., 16., nan])"
      ]
     },
     "execution_count": 14,
     "metadata": {},
     "output_type": "execute_result"
    }
   ],
   "source": [
    "df['course_direction'].unique()"
   ]
  },
  {
   "cell_type": "code",
   "execution_count": 43,
   "metadata": {},
   "outputs": [
    {
     "ename": "NameError",
     "evalue": "name 'key' is not defined",
     "output_type": "error",
     "traceback": [
      "\u001b[0;31m---------------------------------------------------------------------------\u001b[0m",
      "\u001b[0;31mNameError\u001b[0m                                 Traceback (most recent call last)",
      "\u001b[0;32m<ipython-input-43-dc7279adc328>\u001b[0m in \u001b[0;36m<module>\u001b[0;34m()\u001b[0m\n\u001b[0;32m----> 1\u001b[0;31m \u001b[0mdf\u001b[0m\u001b[0;34m[\u001b[0m\u001b[0;34m'parts'\u001b[0m\u001b[0;34m]\u001b[0m\u001b[0;34m.\u001b[0m\u001b[0mapply\u001b[0m\u001b[0;34m(\u001b[0m\u001b[0;32mlambda\u001b[0m \u001b[0mx\u001b[0m\u001b[0;34m:\u001b[0m \u001b[0mint\u001b[0m\u001b[0;34m(\u001b[0m\u001b[0mstr\u001b[0m\u001b[0;34m(\u001b[0m\u001b[0mx\u001b[0m\u001b[0;34m)\u001b[0m\u001b[0;34m[\u001b[0m\u001b[0mstr\u001b[0m\u001b[0;34m(\u001b[0m\u001b[0mx\u001b[0m\u001b[0;34m)\u001b[0m\u001b[0;34m.\u001b[0m\u001b[0mfind\u001b[0m\u001b[0;34m(\u001b[0m\u001b[0mkey\u001b[0m\u001b[0;34m)\u001b[0m\u001b[0;34m+\u001b[0m\u001b[0mvalues\u001b[0m\u001b[0;34m]\u001b[0m\u001b[0;34m)\u001b[0m \u001b[0;32mif\u001b[0m \u001b[0mstr\u001b[0m\u001b[0;34m(\u001b[0m\u001b[0mx\u001b[0m\u001b[0;34m)\u001b[0m\u001b[0;34m[\u001b[0m\u001b[0mstr\u001b[0m\u001b[0;34m(\u001b[0m\u001b[0mx\u001b[0m\u001b[0;34m)\u001b[0m\u001b[0;34m.\u001b[0m\u001b[0mfind\u001b[0m\u001b[0;34m(\u001b[0m\u001b[0mkey\u001b[0m\u001b[0;34m)\u001b[0m\u001b[0;34m:\u001b[0m\u001b[0mstr\u001b[0m\u001b[0;34m(\u001b[0m\u001b[0mx\u001b[0m\u001b[0;34m)\u001b[0m\u001b[0;34m.\u001b[0m\u001b[0mfind\u001b[0m\u001b[0;34m(\u001b[0m\u001b[0mkey\u001b[0m\u001b[0;34m)\u001b[0m\u001b[0;34m+\u001b[0m\u001b[0mvalues\u001b[0m\u001b[0;34m]\u001b[0m\u001b[0;34m.\u001b[0m\u001b[0mfind\u001b[0m\u001b[0;34m(\u001b[0m\u001b[0;34m'×'\u001b[0m\u001b[0;34m)\u001b[0m \u001b[0;32melse\u001b[0m \u001b[0;36m0\u001b[0m\u001b[0;34m)\u001b[0m\u001b[0;34m\u001b[0m\u001b[0m\n\u001b[0m",
      "\u001b[0;32m~/.pyenv/versions/anaconda3-5.3.1/lib/python3.7/site-packages/pandas/core/series.py\u001b[0m in \u001b[0;36mapply\u001b[0;34m(self, func, convert_dtype, args, **kwds)\u001b[0m\n\u001b[1;32m   3192\u001b[0m             \u001b[0;32melse\u001b[0m\u001b[0;34m:\u001b[0m\u001b[0;34m\u001b[0m\u001b[0m\n\u001b[1;32m   3193\u001b[0m                 \u001b[0mvalues\u001b[0m \u001b[0;34m=\u001b[0m \u001b[0mself\u001b[0m\u001b[0;34m.\u001b[0m\u001b[0mastype\u001b[0m\u001b[0;34m(\u001b[0m\u001b[0mobject\u001b[0m\u001b[0;34m)\u001b[0m\u001b[0;34m.\u001b[0m\u001b[0mvalues\u001b[0m\u001b[0;34m\u001b[0m\u001b[0m\n\u001b[0;32m-> 3194\u001b[0;31m                 \u001b[0mmapped\u001b[0m \u001b[0;34m=\u001b[0m \u001b[0mlib\u001b[0m\u001b[0;34m.\u001b[0m\u001b[0mmap_infer\u001b[0m\u001b[0;34m(\u001b[0m\u001b[0mvalues\u001b[0m\u001b[0;34m,\u001b[0m \u001b[0mf\u001b[0m\u001b[0;34m,\u001b[0m \u001b[0mconvert\u001b[0m\u001b[0;34m=\u001b[0m\u001b[0mconvert_dtype\u001b[0m\u001b[0;34m)\u001b[0m\u001b[0;34m\u001b[0m\u001b[0m\n\u001b[0m\u001b[1;32m   3195\u001b[0m \u001b[0;34m\u001b[0m\u001b[0m\n\u001b[1;32m   3196\u001b[0m         \u001b[0;32mif\u001b[0m \u001b[0mlen\u001b[0m\u001b[0;34m(\u001b[0m\u001b[0mmapped\u001b[0m\u001b[0;34m)\u001b[0m \u001b[0;32mand\u001b[0m \u001b[0misinstance\u001b[0m\u001b[0;34m(\u001b[0m\u001b[0mmapped\u001b[0m\u001b[0;34m[\u001b[0m\u001b[0;36m0\u001b[0m\u001b[0;34m]\u001b[0m\u001b[0;34m,\u001b[0m \u001b[0mSeries\u001b[0m\u001b[0;34m)\u001b[0m\u001b[0;34m:\u001b[0m\u001b[0;34m\u001b[0m\u001b[0m\n",
      "\u001b[0;32mpandas/_libs/src/inference.pyx\u001b[0m in \u001b[0;36mpandas._libs.lib.map_infer\u001b[0;34m()\u001b[0m\n",
      "\u001b[0;32m<ipython-input-43-dc7279adc328>\u001b[0m in \u001b[0;36m<lambda>\u001b[0;34m(x)\u001b[0m\n\u001b[0;32m----> 1\u001b[0;31m \u001b[0mdf\u001b[0m\u001b[0;34m[\u001b[0m\u001b[0;34m'parts'\u001b[0m\u001b[0;34m]\u001b[0m\u001b[0;34m.\u001b[0m\u001b[0mapply\u001b[0m\u001b[0;34m(\u001b[0m\u001b[0;32mlambda\u001b[0m \u001b[0mx\u001b[0m\u001b[0;34m:\u001b[0m \u001b[0mint\u001b[0m\u001b[0;34m(\u001b[0m\u001b[0mstr\u001b[0m\u001b[0;34m(\u001b[0m\u001b[0mx\u001b[0m\u001b[0;34m)\u001b[0m\u001b[0;34m[\u001b[0m\u001b[0mstr\u001b[0m\u001b[0;34m(\u001b[0m\u001b[0mx\u001b[0m\u001b[0;34m)\u001b[0m\u001b[0;34m.\u001b[0m\u001b[0mfind\u001b[0m\u001b[0;34m(\u001b[0m\u001b[0mkey\u001b[0m\u001b[0;34m)\u001b[0m\u001b[0;34m+\u001b[0m\u001b[0mvalues\u001b[0m\u001b[0;34m]\u001b[0m\u001b[0;34m)\u001b[0m \u001b[0;32mif\u001b[0m \u001b[0mstr\u001b[0m\u001b[0;34m(\u001b[0m\u001b[0mx\u001b[0m\u001b[0;34m)\u001b[0m\u001b[0;34m[\u001b[0m\u001b[0mstr\u001b[0m\u001b[0;34m(\u001b[0m\u001b[0mx\u001b[0m\u001b[0;34m)\u001b[0m\u001b[0;34m.\u001b[0m\u001b[0mfind\u001b[0m\u001b[0;34m(\u001b[0m\u001b[0mkey\u001b[0m\u001b[0;34m)\u001b[0m\u001b[0;34m:\u001b[0m\u001b[0mstr\u001b[0m\u001b[0;34m(\u001b[0m\u001b[0mx\u001b[0m\u001b[0;34m)\u001b[0m\u001b[0;34m.\u001b[0m\u001b[0mfind\u001b[0m\u001b[0;34m(\u001b[0m\u001b[0mkey\u001b[0m\u001b[0;34m)\u001b[0m\u001b[0;34m+\u001b[0m\u001b[0mvalues\u001b[0m\u001b[0;34m]\u001b[0m\u001b[0;34m.\u001b[0m\u001b[0mfind\u001b[0m\u001b[0;34m(\u001b[0m\u001b[0;34m'×'\u001b[0m\u001b[0;34m)\u001b[0m \u001b[0;32melse\u001b[0m \u001b[0;36m0\u001b[0m\u001b[0;34m)\u001b[0m\u001b[0;34m\u001b[0m\u001b[0m\n\u001b[0m",
      "\u001b[0;31mNameError\u001b[0m: name 'key' is not defined"
     ]
    }
   ],
   "source": [
    "df['parts'].apply(lambda x: int(str(x)[str(x).find(key)+values]) if str(x)[str(x).find(key):str(x).find(key)+values].find('×') else 0)"
   ]
  },
  {
   "cell_type": "code",
   "execution_count": 27,
   "metadata": {},
   "outputs": [],
   "source": [
    "PARTS = {'キャリボ': 4,\n",
    "         'ピストン': 4,\n",
    "         'リング': 3,\n",
    "         '電気': 2, \n",
    "         'キャブ': 3,\n",
    "         'ギヤ': 2,\n",
    "         'シリンダ': 4,\n",
    "         'シャフト': 4}\n",
    "\n",
    "def drop_miss(df):\n",
    "    return df[df['is_miss'] == False]\n",
    "    \n",
    "def preprocessing(df):\n",
    "    # 月\n",
    "    df['month'] = df['race_date'].apply(lambda x: (x%10000)//100)\n",
    "    # 日\n",
    "    df['date'] = df['race_date'].apply(lambda x: x%100)\n",
    "    \n",
    "    # 周期データを三角関数に変換\n",
    "    df['month_cos'] = np.cos(2 * np.pi * df['month']/df['month'].max())\n",
    "    df['month_sin'] = np.sin(2 * np.pi * df['month']/df['month'].max())\n",
    "    \n",
    "    df['date_cos'] = np.cos(2 * np.pi * df['date']/df['date'].max())\n",
    "    df['date_sin'] = np.sin(2 * np.pi * df['date']/df['date'].max())\n",
    "    \n",
    "    df['course_direction_cos'] = np.cos(2 * np.pi * df['course_direction']/df['course_direction'].max())\n",
    "    df['course_direction_sin'] = np.sin(2 * np.pi * df['course_direction']/df['course_direction'].max())\n",
    "    \n",
    "    df['wave_direction_cos'] = np.cos(2 * np.pi * df['wave_direction']/df['wave_direction'].max())\n",
    "    df['wave_direction_sin'] = np.sin(2 * np.pi * df['wave_direction']/df['wave_direction'].max())\n",
    "    \n",
    "    # 展示フライングフラグ\n",
    "    df['pre_f_flg'] = df['pre_start_timing'].apply(lambda x: str(x).find('f')!=-1)\n",
    "    \n",
    "    for key, values in PARTS.values():\n",
    "        df[key+'_flg'] = df['parts'].apply(lambda x: True if str(x).find(key)!=-1 else False)\n",
    "        df[key+'_count'] = \n",
    "    \n",
    "    return df"
   ]
  },
  {
   "cell_type": "code",
   "execution_count": 31,
   "metadata": {},
   "outputs": [
    {
     "data": {
      "text/plain": [
       "0         False\n",
       "1         False\n",
       "2          True\n",
       "3         False\n",
       "4          True\n",
       "5          True\n",
       "6         False\n",
       "7         False\n",
       "8         False\n",
       "9         False\n",
       "10        False\n",
       "11        False\n",
       "12        False\n",
       "13         True\n",
       "14        False\n",
       "15        False\n",
       "16        False\n",
       "17        False\n",
       "18        False\n",
       "19        False\n",
       "20        False\n",
       "21         True\n",
       "22        False\n",
       "23        False\n",
       "24        False\n",
       "25        False\n",
       "26        False\n",
       "27         True\n",
       "28        False\n",
       "29         True\n",
       "          ...  \n",
       "202560     True\n",
       "202561     True\n",
       "202562    False\n",
       "202563     True\n",
       "202564     True\n",
       "202565     True\n",
       "202566     True\n",
       "202567    False\n",
       "202568    False\n",
       "202569    False\n",
       "202570    False\n",
       "202571    False\n",
       "202572    False\n",
       "202573    False\n",
       "202574    False\n",
       "202575    False\n",
       "202576    False\n",
       "202577    False\n",
       "202578    False\n",
       "202579     True\n",
       "202580    False\n",
       "202581    False\n",
       "202582    False\n",
       "202583     True\n",
       "202584     True\n",
       "202585     True\n",
       "202586    False\n",
       "202587     True\n",
       "202588    False\n",
       "202589    False\n",
       "Name: pre_start_timing, Length: 202590, dtype: bool"
      ]
     },
     "execution_count": 31,
     "metadata": {},
     "output_type": "execute_result"
    }
   ],
   "source": [
    "df['pre_start_timing'].apply(lambda x: str(x).find('F')!=-1)"
   ]
  },
  {
   "cell_type": "code",
   "execution_count": null,
   "metadata": {},
   "outputs": [],
   "source": []
  }
 ],
 "metadata": {
  "kernelspec": {
   "display_name": "Python 3",
   "language": "python",
   "name": "python3"
  },
  "language_info": {
   "codemirror_mode": {
    "name": "ipython",
    "version": 3
   },
   "file_extension": ".py",
   "mimetype": "text/x-python",
   "name": "python",
   "nbconvert_exporter": "python",
   "pygments_lexer": "ipython3",
   "version": "3.7.0"
  }
 },
 "nbformat": 4,
 "nbformat_minor": 2
}
