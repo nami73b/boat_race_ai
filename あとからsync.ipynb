{
 "cells": [
  {
   "cell_type": "code",
   "execution_count": 21,
   "metadata": {},
   "outputs": [],
   "source": [
    "import datetime\n",
    "import numpy as np\n",
    "import pandas as pd\n",
    "from bs4 import BeautifulSoup\n",
    "from urllib.request import urlopen\n",
    "from selenium import webdriver\n",
    "import sys\n",
    "import traceback"
   ]
  },
  {
   "cell_type": "code",
   "execution_count": 22,
   "metadata": {},
   "outputs": [],
   "source": [
    "url = 'https://www.boatrace.jp/owpc/pc/race/pay?hd=20200326'"
   ]
  },
  {
   "cell_type": "code",
   "execution_count": 23,
   "metadata": {},
   "outputs": [],
   "source": [
    "html = urlopen(url)\n",
    "soup = BeautifulSoup(html,\"html.parser\")"
   ]
  },
  {
   "cell_type": "code",
   "execution_count": 24,
   "metadata": {},
   "outputs": [],
   "source": [
    "end_race_list = list(filter(lambda x: x.find('raceresult')!=-1, set([td.get('data-href') for td in soup.find_all('td', {'class': 'cellbg'})])))"
   ]
  },
  {
   "cell_type": "code",
   "execution_count": 25,
   "metadata": {},
   "outputs": [
    {
     "data": {
      "text/plain": [
       "[['20200326', '16', '1'],\n",
       " ['20200326', '18', '1'],\n",
       " ['20200326', '21', '3'],\n",
       " ['20200326', '21', '4'],\n",
       " ['20200326', '18', '4'],\n",
       " ['20200326', '21', '1'],\n",
       " ['20200326', '18', '3'],\n",
       " ['20200326', '09', '1'],\n",
       " ['20200326', '10', '1'],\n",
       " ['20200326', '18', '2'],\n",
       " ['20200326', '13', '1'],\n",
       " ['20200326', '21', '2']]"
      ]
     },
     "execution_count": 25,
     "metadata": {},
     "output_type": "execute_result"
    }
   ],
   "source": [
    "[list(reversed([r.split('=')[-1] for r in race.split('?')[-1].split('&')])) for race in end_race_list]"
   ]
  },
  {
   "cell_type": "code",
   "execution_count": null,
   "metadata": {},
   "outputs": [],
   "source": []
  }
 ],
 "metadata": {
  "kernelspec": {
   "display_name": "Python 3",
   "language": "python",
   "name": "python3"
  },
  "language_info": {
   "codemirror_mode": {
    "name": "ipython",
    "version": 3
   },
   "file_extension": ".py",
   "mimetype": "text/x-python",
   "name": "python",
   "nbconvert_exporter": "python",
   "pygments_lexer": "ipython3",
   "version": "3.6.10"
  }
 },
 "nbformat": 4,
 "nbformat_minor": 4
}
