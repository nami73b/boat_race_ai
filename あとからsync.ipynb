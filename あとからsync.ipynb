{
 "cells": [
  {
   "cell_type": "code",
   "execution_count": 1,
   "metadata": {},
   "outputs": [
    {
     "name": "stderr",
     "output_type": "stream",
     "text": [
      "/Users/yuta.miyawaki/.pyenv/versions/3.6.10/lib/python3.6/site-packages/pandas/compat/__init__.py:85: UserWarning: Could not import the lzma module. Your installed Python is incomplete. Attempting to use lzma compression will result in a RuntimeError.\n",
      "  warnings.warn(msg)\n",
      "/Users/yuta.miyawaki/.pyenv/versions/3.6.10/lib/python3.6/site-packages/pandas/compat/__init__.py:85: UserWarning: Could not import the lzma module. Your installed Python is incomplete. Attempting to use lzma compression will result in a RuntimeError.\n",
      "  warnings.warn(msg)\n"
     ]
    }
   ],
   "source": [
    "import datetime\n",
    "import numpy as np\n",
    "import pandas as pd\n",
    "from bs4 import BeautifulSoup\n",
    "from urllib.request import urlopen\n",
    "from selenium import webdriver\n",
    "import sys\n",
    "import traceback"
   ]
  },
  {
   "cell_type": "code",
   "execution_count": 2,
   "metadata": {},
   "outputs": [],
   "source": [
    "url = 'https://www.boatrace.jp/owpc/pc/race/pay?hd=20200214'"
   ]
  },
  {
   "cell_type": "code",
   "execution_count": 3,
   "metadata": {},
   "outputs": [],
   "source": [
    "html = urlopen(url)\n",
    "soup = BeautifulSoup(html,\"html.parser\")"
   ]
  },
  {
   "cell_type": "code",
   "execution_count": 4,
   "metadata": {},
   "outputs": [
    {
     "data": {
      "text/plain": [
       "['/owpc/pc/race/raceresult?rno=9&jcd=17&hd=20200214',\n",
       " '/owpc/pc/race/raceresult?rno=1&jcd=14&hd=20200214',\n",
       " '/owpc/pc/race/raceresult?rno=8&jcd=21&hd=20200214',\n",
       " '/owpc/pc/race/raceresult?rno=2&jcd=14&hd=20200214',\n",
       " '/owpc/pc/race/raceresult?rno=3&jcd=21&hd=20200214',\n",
       " '/owpc/pc/race/raceresult?rno=9&jcd=04&hd=20200214',\n",
       " '/owpc/pc/race/raceresult?rno=8&jcd=16&hd=20200214',\n",
       " '/owpc/pc/race/raceresult?rno=7&jcd=16&hd=20200214',\n",
       " '/owpc/pc/race/raceresult?rno=1&jcd=04&hd=20200214',\n",
       " '/owpc/pc/race/raceresult?rno=5&jcd=14&hd=20200214',\n",
       " '/owpc/pc/race/raceresult?rno=7&jcd=06&hd=20200214',\n",
       " '/owpc/pc/race/raceresult?rno=11&jcd=23&hd=20200214',\n",
       " '/owpc/pc/race/raceresult?rno=10&jcd=17&hd=20200214',\n",
       " '/owpc/pc/race/raceresult?rno=3&jcd=20&hd=20200214',\n",
       " '/owpc/pc/race/raceresult?rno=3&jcd=03&hd=20200214',\n",
       " '/owpc/pc/race/raceresult?rno=5&jcd=04&hd=20200214',\n",
       " '/owpc/pc/race/raceresult?rno=4&jcd=17&hd=20200214',\n",
       " '/owpc/pc/race/raceresult?rno=6&jcd=04&hd=20200214',\n",
       " '/owpc/pc/race/raceresult?rno=6&jcd=23&hd=20200214',\n",
       " '/owpc/pc/race/raceresult?rno=11&jcd=21&hd=20200214',\n",
       " '/owpc/pc/race/raceresult?rno=4&jcd=12&hd=20200214',\n",
       " '/owpc/pc/race/raceresult?rno=5&jcd=12&hd=20200214',\n",
       " '/owpc/pc/race/raceresult?rno=9&jcd=16&hd=20200214',\n",
       " '/owpc/pc/race/raceresult?rno=1&jcd=16&hd=20200214',\n",
       " '/owpc/pc/race/raceresult?rno=2&jcd=06&hd=20200214',\n",
       " '/owpc/pc/race/raceresult?rno=1&jcd=07&hd=20200214',\n",
       " '/owpc/pc/race/raceresult?rno=1&jcd=17&hd=20200214',\n",
       " '/owpc/pc/race/raceresult?rno=4&jcd=16&hd=20200214',\n",
       " '/owpc/pc/race/raceresult?rno=7&jcd=17&hd=20200214',\n",
       " '/owpc/pc/race/raceresult?rno=8&jcd=17&hd=20200214',\n",
       " '/owpc/pc/race/raceresult?rno=1&jcd=06&hd=20200214',\n",
       " '/owpc/pc/race/raceresult?rno=5&jcd=17&hd=20200214',\n",
       " '/owpc/pc/race/raceresult?rno=5&jcd=03&hd=20200214',\n",
       " '/owpc/pc/race/raceresult?rno=8&jcd=04&hd=20200214',\n",
       " '/owpc/pc/race/raceresult?rno=2&jcd=03&hd=20200214',\n",
       " '/owpc/pc/race/raceresult?rno=11&jcd=16&hd=20200214',\n",
       " '/owpc/pc/race/raceresult?rno=3&jcd=16&hd=20200214',\n",
       " '/owpc/pc/race/raceresult?rno=7&jcd=03&hd=20200214',\n",
       " '/owpc/pc/race/raceresult?rno=12&jcd=04&hd=20200214',\n",
       " '/owpc/pc/race/raceresult?rno=1&jcd=21&hd=20200214',\n",
       " '/owpc/pc/race/raceresult?rno=2&jcd=20&hd=20200214',\n",
       " '/owpc/pc/race/raceresult?rno=7&jcd=23&hd=20200214',\n",
       " '/owpc/pc/race/raceresult?rno=11&jcd=06&hd=20200214',\n",
       " '/owpc/pc/race/raceresult?rno=12&jcd=03&hd=20200214',\n",
       " '/owpc/pc/race/raceresult?rno=10&jcd=03&hd=20200214',\n",
       " '/owpc/pc/race/raceresult?rno=5&jcd=06&hd=20200214',\n",
       " '/owpc/pc/race/raceresult?rno=1&jcd=12&hd=20200214',\n",
       " '/owpc/pc/race/raceresult?rno=10&jcd=23&hd=20200214',\n",
       " '/owpc/pc/race/raceresult?rno=1&jcd=20&hd=20200214',\n",
       " '/owpc/pc/race/raceresult?rno=3&jcd=06&hd=20200214',\n",
       " '/owpc/pc/race/raceresult?rno=3&jcd=12&hd=20200214',\n",
       " '/owpc/pc/race/raceresult?rno=7&jcd=04&hd=20200214',\n",
       " '/owpc/pc/race/raceresult?rno=10&jcd=04&hd=20200214',\n",
       " '/owpc/pc/race/raceresult?rno=6&jcd=06&hd=20200214',\n",
       " '/owpc/pc/race/raceresult?rno=11&jcd=17&hd=20200214',\n",
       " '/owpc/pc/race/raceresult?rno=6&jcd=03&hd=20200214',\n",
       " '/owpc/pc/race/raceresult?rno=4&jcd=03&hd=20200214',\n",
       " '/owpc/pc/race/raceresult?rno=12&jcd=21&hd=20200214',\n",
       " '/owpc/pc/race/raceresult?rno=4&jcd=06&hd=20200214',\n",
       " '/owpc/pc/race/raceresult?rno=4&jcd=23&hd=20200214',\n",
       " '/owpc/pc/race/raceresult?rno=6&jcd=14&hd=20200214',\n",
       " '/owpc/pc/race/raceresult?rno=7&jcd=14&hd=20200214',\n",
       " '/owpc/pc/race/raceresult?rno=9&jcd=06&hd=20200214',\n",
       " '/owpc/pc/race/raceresult?rno=4&jcd=07&hd=20200214',\n",
       " '/owpc/pc/race/raceresult?rno=11&jcd=04&hd=20200214',\n",
       " '/owpc/pc/race/raceresult?rno=3&jcd=04&hd=20200214',\n",
       " '/owpc/pc/race/raceresult?rno=6&jcd=16&hd=20200214',\n",
       " '/owpc/pc/race/raceresult?rno=3&jcd=14&hd=20200214',\n",
       " '/owpc/pc/race/raceresult?rno=2&jcd=04&hd=20200214',\n",
       " '/owpc/pc/race/raceresult?rno=2&jcd=07&hd=20200214',\n",
       " '/owpc/pc/race/raceresult?rno=10&jcd=16&hd=20200214',\n",
       " '/owpc/pc/race/raceresult?rno=3&jcd=17&hd=20200214',\n",
       " '/owpc/pc/race/raceresult?rno=10&jcd=06&hd=20200214',\n",
       " '/owpc/pc/race/raceresult?rno=5&jcd=23&hd=20200214',\n",
       " '/owpc/pc/race/raceresult?rno=12&jcd=14&hd=20200214',\n",
       " '/owpc/pc/race/raceresult?rno=5&jcd=16&hd=20200214',\n",
       " '/owpc/pc/race/raceresult?rno=5&jcd=07&hd=20200214',\n",
       " '/owpc/pc/race/raceresult?rno=4&jcd=20&hd=20200214',\n",
       " '/owpc/pc/race/raceresult?rno=5&jcd=20&hd=20200214',\n",
       " '/owpc/pc/race/raceresult?rno=10&jcd=14&hd=20200214',\n",
       " '/owpc/pc/race/raceresult?rno=4&jcd=04&hd=20200214',\n",
       " '/owpc/pc/race/raceresult?rno=9&jcd=21&hd=20200214',\n",
       " '/owpc/pc/race/raceresult?rno=10&jcd=21&hd=20200214',\n",
       " '/owpc/pc/race/raceresult?rno=9&jcd=23&hd=20200214',\n",
       " '/owpc/pc/race/raceresult?rno=6&jcd=21&hd=20200214',\n",
       " '/owpc/pc/race/raceresult?rno=11&jcd=14&hd=20200214',\n",
       " '/owpc/pc/race/raceresult?rno=1&jcd=03&hd=20200214',\n",
       " '/owpc/pc/race/raceresult?rno=1&jcd=23&hd=20200214',\n",
       " '/owpc/pc/race/raceresult?rno=4&jcd=21&hd=20200214',\n",
       " '/owpc/pc/race/raceresult?rno=8&jcd=23&hd=20200214',\n",
       " '/owpc/pc/race/raceresult?rno=8&jcd=14&hd=20200214',\n",
       " '/owpc/pc/race/raceresult?rno=2&jcd=16&hd=20200214',\n",
       " '/owpc/pc/race/raceresult?rno=2&jcd=17&hd=20200214',\n",
       " '/owpc/pc/race/raceresult?rno=11&jcd=03&hd=20200214',\n",
       " '/owpc/pc/race/raceresult?rno=12&jcd=23&hd=20200214',\n",
       " '/owpc/pc/race/raceresult?rno=12&jcd=17&hd=20200214',\n",
       " '/owpc/pc/race/raceresult?rno=5&jcd=21&hd=20200214',\n",
       " '/owpc/pc/race/raceresult?rno=4&jcd=14&hd=20200214',\n",
       " '/owpc/pc/race/raceresult?rno=2&jcd=23&hd=20200214',\n",
       " '/owpc/pc/race/raceresult?rno=12&jcd=06&hd=20200214',\n",
       " '/owpc/pc/race/raceresult?rno=8&jcd=03&hd=20200214',\n",
       " '/owpc/pc/race/raceresult?rno=2&jcd=21&hd=20200214',\n",
       " '/owpc/pc/race/raceresult?rno=6&jcd=17&hd=20200214',\n",
       " '/owpc/pc/race/raceresult?rno=3&jcd=07&hd=20200214',\n",
       " '/owpc/pc/race/raceresult?rno=7&jcd=21&hd=20200214',\n",
       " '/owpc/pc/race/raceresult?rno=9&jcd=14&hd=20200214',\n",
       " '/owpc/pc/race/raceresult?rno=2&jcd=12&hd=20200214',\n",
       " '/owpc/pc/race/raceresult?rno=12&jcd=16&hd=20200214',\n",
       " '/owpc/pc/race/raceresult?rno=9&jcd=03&hd=20200214',\n",
       " '/owpc/pc/race/raceresult?rno=8&jcd=06&hd=20200214',\n",
       " '/owpc/pc/race/raceresult?rno=3&jcd=23&hd=20200214']"
      ]
     },
     "execution_count": 4,
     "metadata": {},
     "output_type": "execute_result"
    }
   ],
   "source": [
    "list(filter(lambda x: x.find('raceresult')!=-1, set([td.get('data-href') for td in soup.find_all('td', {'class': 'cellbg'})])))"
   ]
  },
  {
   "cell_type": "code",
   "execution_count": null,
   "metadata": {},
   "outputs": [],
   "source": []
  }
 ],
 "metadata": {
  "kernelspec": {
   "display_name": "Python 3",
   "language": "python",
   "name": "python3"
  },
  "language_info": {
   "codemirror_mode": {
    "name": "ipython",
    "version": 3
   },
   "file_extension": ".py",
   "mimetype": "text/x-python",
   "name": "python",
   "nbconvert_exporter": "python",
   "pygments_lexer": "ipython3",
   "version": "3.6.10"
  }
 },
 "nbformat": 4,
 "nbformat_minor": 4
}
