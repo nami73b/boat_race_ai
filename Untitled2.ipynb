{
 "cells": [
  {
   "cell_type": "code",
   "execution_count": 101,
   "metadata": {},
   "outputs": [],
   "source": [
    "import requests\n",
    "import datetime\n",
    "import sys\n",
    "import traceback\n",
    "import logging\n",
    "import json\n",
    "import threading\n",
    "import time\n",
    "from selenium import webdriver\n",
    "\n",
    "get_future_racetime_api_url = 'https://asia-northeast1-maximal-boulder-268803.cloudfunctions.net/get_future_racetime'\n",
    "insert_race_data_url = 'https://asia-northeast1-maximal-boulder-268803.cloudfunctions.net/insert_race_data'\n",
    "predict_race_url = 'https://asia-northeast1-maximal-boulder-268803.cloudfunctions.net/predict_race'\n",
    "get_expected_value_url = 'https://asia-northeast1-maximal-boulder-268803.cloudfunctions.net/get_expected_value'\n",
    "\n",
    "ex_return = 2000\n",
    "ex_th = 1\n",
    "\n",
    "KANYUSYA_NO = '08342758'\n",
    "PASS = '2714'\n",
    "AUTH_PATH = 'Qn7EGt'\n",
    "BET_PATH = 'nami73'\n",
    "\n",
    "login_url = 'https://www.boatrace.jp/owpc/pc/login?authAfterUrl=/'\n",
    "login_url = 'https://www.boatrace.jp/owpc/pc/login?authAfterUrl=/%3FvoteTagId%3DcommonHead'"
   ]
  },
  {
   "cell_type": "code",
   "execution_count": 110,
   "metadata": {},
   "outputs": [],
   "source": [
    "class Betting():\n",
    "    def __init__(self, place_id, race_no, bet_list):\n",
    "        self.place_id = place_id\n",
    "        self.race_no = race_no\n",
    "        self.bet_list = bet_list\n",
    "        self.bet_amount_sum = 0\n",
    "    \n",
    "    def load_driver(self):\n",
    "#         options = webdriver.ChromeOptions()\n",
    "#         options.add_argument('--headless')\n",
    "#         self.driver = webdriver.Chrome('asset/chromedriver', options=options)\n",
    "        self.driver = webdriver.Chrome('asset/chromedriver')\n",
    "    \n",
    "    def do_login(self):\n",
    "        self.driver.get(login_url)\n",
    "        self.driver.find_element_by_name('in_KanyusyaNo').send_keys(KANYUSYA_NO)\n",
    "        self.driver.find_element_by_name('in_AnsyoNo').send_keys(PASS)\n",
    "        self.driver.find_element_by_name('in_PassWord').send_keys(AUTH_PATH)\n",
    "        time.sleep(0.1)\n",
    "        self.driver.find_element_by_xpath('/html/body/main/div/div/div/div[2]/div/div/div[2]/div/form/p/button').click()\n",
    "            \n",
    "    def open_bet_page(self):\n",
    "        self.driver.find_element_by_xpath('//*[@id=\"commonHead\"]').click()\n",
    "        handles = self.driver.window_handles\n",
    "        time.sleep(1)\n",
    "        self.driver.switch_to_window(handles[1])\n",
    "        time.sleep(1)\n",
    "        path = '//*[@id=\"jyo{0}\"]/a'.format(self.place_id)\n",
    "        self.driver.find_element_by_xpath(path).click()\n",
    "    \n",
    "    def bet_win(self, bet_inf):\n",
    "        path = '//*[@id=\"regbtn_{0}_1\"]/a'.format(bet_inf['bracket1'])\n",
    "        self.driver.find_element_by_xpath(path).click()\n",
    "        time.sleep(1)\n",
    "        elem = self.driver.find_element_by_xpath('//*[@id=\"amount\"]')\n",
    "        elem.clear()\n",
    "        elem.send_keys(bet_inf['amount'])\n",
    "        time.sleep(1)\n",
    "        self.driver.find_element_by_xpath('//*[@id=\"regAmountBtn\"]/a').click()\n",
    "        \n",
    "    def submit(self):\n",
    "        self.driver.find_element_by_xpath('//*[@id=\"betList\"]/div[3]/div[3]/a').click()\n",
    "        time.sleep(1)\n",
    "        self.driver.find_element_by_xpath('//*[@id=\"amount\"]').send_keys(self.bet_amount_sum)\n",
    "        time.sleep(1)\n",
    "        self.driver.find_element_by_xpath('//*[@id=\"pass\"]').send_keys(BET_PATH)\n",
    "        time.sleep(1)\n",
    "        self.driver.find_element_by_xpath('//*[@id=\"submitBet\"]/a').click()\n",
    "        time.sleep(1)\n",
    "        self.driver.find_element_by_xpath('//*[@id=\"ok\"]').click()\n",
    "        \n",
    "            \n",
    "    def main_process(self):\n",
    "        # クロームドライバー読み込み\n",
    "        self.load_driver()\n",
    "        \n",
    "        # ログイン処理\n",
    "        self.do_login()\n",
    "        \n",
    "        # 投票ページに遷移\n",
    "        self.open_bet_page()\n",
    "        time.sleep(1)\n",
    "        \n",
    "        page_state = 0\n",
    "        \n",
    "        # 投票作成\n",
    "        for bet_inf in self.bet_list:\n",
    "            print(bet_inf)\n",
    "            \n",
    "            if bet_inf['bet_type'] == 1:\n",
    "                if page_state != 1:\n",
    "                    self.driver.find_element_by_xpath('//*[@id=\"betkati1\"]/a').click()\n",
    "                    time.sleep(1)\n",
    "                    page_state = 1\n",
    "                self.bet_win(bet_inf)\n",
    "                time.sleep(1)\n",
    "            \n",
    "            self.bet_amount_sum += int(bet_inf['amount'])*100\n",
    "        \n",
    "        # 投票確定\n",
    "        self.submit()\n",
    "        \n",
    "        self.driver.close()\n"
   ]
  },
  {
   "cell_type": "code",
   "execution_count": 111,
   "metadata": {},
   "outputs": [],
   "source": [
    "bet_test = [{'bet_type': 1, 'bracket1': '1', 'bracket2': None, 'bracket3': None, 'amount': 1}]"
   ]
  },
  {
   "cell_type": "code",
   "execution_count": 112,
   "metadata": {},
   "outputs": [],
   "source": [
    "betting = Betting('07', '5', bet_test)"
   ]
  },
  {
   "cell_type": "code",
   "execution_count": 113,
   "metadata": {},
   "outputs": [
    {
     "name": "stdout",
     "output_type": "stream",
     "text": [
      "CPU times: user 3 µs, sys: 1e+03 ns, total: 4 µs\n",
      "Wall time: 16 µs\n"
     ]
    },
    {
     "name": "stderr",
     "output_type": "stream",
     "text": [
      "/Users/yuta.miyawaki/.pyenv/versions/3.6.10/lib/python3.6/site-packages/ipykernel_launcher.py:26: DeprecationWarning: use driver.switch_to.window instead\n"
     ]
    },
    {
     "name": "stdout",
     "output_type": "stream",
     "text": [
      "{'bet_type': 1, 'bracket1': '1', 'bracket2': None, 'bracket3': None, 'amount': 1}\n"
     ]
    }
   ],
   "source": [
    "\n",
    "betting.main_process()"
   ]
  },
  {
   "cell_type": "code",
   "execution_count": 106,
   "metadata": {},
   "outputs": [],
   "source": [
    "betting.load_driver()\n",
    "betting.do_login()"
   ]
  },
  {
   "cell_type": "code",
   "execution_count": 109,
   "metadata": {},
   "outputs": [
    {
     "name": "stderr",
     "output_type": "stream",
     "text": [
      "/Users/yuta.miyawaki/.pyenv/versions/3.6.10/lib/python3.6/site-packages/ipykernel_launcher.py:2: DeprecationWarning: use driver.switch_to.window instead\n",
      "  \n"
     ]
    }
   ],
   "source": [
    "handles = betting.driver.window_handles\n",
    "betting.driver.switch_to_window(handles[1])"
   ]
  },
  {
   "cell_type": "code",
   "execution_count": 94,
   "metadata": {},
   "outputs": [
    {
     "name": "stderr",
     "output_type": "stream",
     "text": [
      "/Users/yuta.miyawaki/.pyenv/versions/3.6.10/lib/python3.6/site-packages/pandas/compat/__init__.py:85: UserWarning: Could not import the lzma module. Your installed Python is incomplete. Attempting to use lzma compression will result in a RuntimeError.\n",
      "  warnings.warn(msg)\n",
      "/Users/yuta.miyawaki/.pyenv/versions/3.6.10/lib/python3.6/site-packages/pandas/compat/__init__.py:85: UserWarning: Could not import the lzma module. Your installed Python is incomplete. Attempting to use lzma compression will result in a RuntimeError.\n",
      "  warnings.warn(msg)\n"
     ]
    }
   ],
   "source": [
    "import datetime\n",
    "import numpy as np\n",
    "import pandas as pd\n",
    "from bs4 import BeautifulSoup\n",
    "from urllib.request import urlopen\n",
    "from selenium import webdriver\n",
    "from sqlalchemy import create_engine\n",
    "import sys\n",
    "import traceback"
   ]
  },
  {
   "cell_type": "code",
   "execution_count": 97,
   "metadata": {},
   "outputs": [],
   "source": [
    "def get_odds_win(soup):\n",
    "    odds = {}\n",
    "    rows = soup.find_all('table', {'class': 'is-w495'})[0].find_all('tbody')\n",
    "    for row in rows:\n",
    "        cell = row.find_all('td')\n",
    "        if cell[2].get_text() != '欠場':\n",
    "            odds[cell[0].get_text()] = float(cell[2].get_text())\n",
    "    return odds\n",
    "\n",
    "def get_ex_value(race_date, place_id, race_no, output=[i for i in range(6)]):\n",
    "    url = 'https://www.boatrace.jp/owpc/pc/race/oddstf?rno={race_no}&jcd={place_no}&hd={race_date}'\n",
    "    url = url.format(**{'race_date': race_date ,'place_no': \"{0:02d}\".format(int(place_id)), 'race_no': race_no})\n",
    "    html = urlopen(url)\n",
    "    soup = BeautifulSoup(html,\"html.parser\")\n",
    "    odds_win = get_odds_win(soup)\n",
    "    \n",
    "    ex_value = {}\n",
    "    for pred, odds in zip(output, odds_win.items()):\n",
    "        ex_value[odds[0]] = [pred, odds[1], pred*odds[1]]\n",
    "    return ex_value"
   ]
  },
  {
   "cell_type": "code",
   "execution_count": 100,
   "metadata": {},
   "outputs": [
    {
     "data": {
      "text/plain": [
       "{'1': [0, 1.1, 0.0],\n",
       " '2': [1, 16.9, 16.9],\n",
       " '3': [2, 18.6, 37.2],\n",
       " '4': [3, 21.7, 65.1],\n",
       " '5': [4, 39.0, 156.0],\n",
       " '6': [5, 3.1, 15.5]}"
      ]
     },
     "execution_count": 100,
     "metadata": {},
     "output_type": "execute_result"
    }
   ],
   "source": [
    "get_ex_value('20200324', '12', '5')"
   ]
  },
  {
   "cell_type": "code",
   "execution_count": null,
   "metadata": {},
   "outputs": [],
   "source": []
  }
 ],
 "metadata": {
  "kernelspec": {
   "display_name": "Python 3",
   "language": "python",
   "name": "python3"
  },
  "language_info": {
   "codemirror_mode": {
    "name": "ipython",
    "version": 3
   },
   "file_extension": ".py",
   "mimetype": "text/x-python",
   "name": "python",
   "nbconvert_exporter": "python",
   "pygments_lexer": "ipython3",
   "version": "3.6.10"
  }
 },
 "nbformat": 4,
 "nbformat_minor": 4
}
