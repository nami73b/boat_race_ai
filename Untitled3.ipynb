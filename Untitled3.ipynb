{
 "cells": [
  {
   "cell_type": "code",
   "execution_count": 1,
   "metadata": {},
   "outputs": [],
   "source": [
    "from requests_oauthlib import OAuth1Session\n",
    "\n",
    "CK = '57TqATZ3YVjIFoQRSB6CtJ7cJ'\n",
    "CS = 'z3dtAIOborX0R2kr8PlUOuVvqKkmDx06cSnI77zbsih1C4ABjk'\n",
    "AT = '1242725416575492097-CPCef8OpD8J11kBCriaU3Bxl54XHdn'\n",
    "ATS = 'fKD1PEC7Oy5o1XdY9fR0nA2sNhgMY2RbD3foBjDty4shO'\n",
    "\n",
    "twitter = OAuth1Session(CK, CS, AT, ATS)"
   ]
  },
  {
   "cell_type": "code",
   "execution_count": 3,
   "metadata": {},
   "outputs": [],
   "source": [
    "def tweet_result(race_date, place_id, race_no, bet_list):\n",
    "    url = \"https://api.twitter.com/1.1/statuses/update.json\"\n",
    "    txt = \"{race_date} {place_id} {race_no}R\\n\".format(race_date=race_date, place_id=palce_code_master[place_id], race_no=race_no)\n",
    "    for bet in bet_list:\n",
    "        txt += \"単勝 {bracket1} ¥{amount}00\\n\".format(**bet)\n",
    "        \n",
    "    params = {\"status\" : txt}\n",
    "    \n",
    "    req = twitter.post(url, params = params)\n",
    "\n",
    "    if req.status_code == 200:\n",
    "        print(\"Succeed Tweet\")\n",
    "    else:\n",
    "        print(\"ERROR : %d\"% req.status_code)"
   ]
  },
  {
   "cell_type": "code",
   "execution_count": 5,
   "metadata": {},
   "outputs": [],
   "source": [
    "betlist = [{'bet_type': 1, 'bracket1': '2', 'bracket2': None, 'bracket3': None, 'amount': 2}]"
   ]
  },
  {
   "cell_type": "code",
   "execution_count": null,
   "metadata": {},
   "outputs": [],
   "source": [
    "tweet_result('2020032', place_id, race_no, bet_list)"
   ]
  }
 ],
 "metadata": {
  "kernelspec": {
   "display_name": "Python 3",
   "language": "python",
   "name": "python3"
  },
  "language_info": {
   "codemirror_mode": {
    "name": "ipython",
    "version": 3
   },
   "file_extension": ".py",
   "mimetype": "text/x-python",
   "name": "python",
   "nbconvert_exporter": "python",
   "pygments_lexer": "ipython3",
   "version": "3.6.10"
  }
 },
 "nbformat": 4,
 "nbformat_minor": 4
}
